{
 "cells": [
  {
   "cell_type": "code",
   "execution_count": 1,
   "metadata": {},
   "outputs": [],
   "source": [
    "import cv2"
   ]
  },
  {
   "cell_type": "code",
   "execution_count": 2,
   "metadata": {},
   "outputs": [],
   "source": [
    "import numpy as np"
   ]
  },
  {
   "cell_type": "markdown",
   "metadata": {},
   "source": [
    "## 이미지 reading& writing\n",
    "\n",
    "\n",
    "## cv2.imread(이미지 파일 경로, 이미지 파일 읽는 방식)\n",
    "## cv2.IMREAD_COLOR : 컬러 이미지로 로드/ 이미지의 투명한 부부은 모두무시됨, 디폴트 플래그, 정수값은 1\n",
    "## cv2.IMREAD_GRAYSCALE : 흑백 이미지로 로드함 정수값 0\n",
    "## cv2.IMREAD_UNCHANGED : 알파채널을 포함하여 이미지를 그대로 로드함 정수값 -1"
   ]
  },
  {
   "cell_type": "code",
   "execution_count": 3,
   "metadata": {},
   "outputs": [],
   "source": [
    "def showimage():\n",
    "    imgfile = 'C:/Users/Kim/Desktop/img.png'\n",
    "    img = cv2.imread(imgfile,cv2.IMREAD_COLOR)\n",
    "    \n",
    "    cv2.imshow('model',img)\n",
    "    cv2.waitKey(0) # 지정된 시간동안 키보드 입력을 기다려라, cv2.waitKey(5) 5ms동안 대기 0은 키보드 입력이있을때 까지 기다려라\n",
    "    cv2.destroyAllWindows() # 생성한 모든 윈도를 제거해라\n",
    "    "
   ]
  },
  {
   "cell_type": "code",
   "execution_count": 4,
   "metadata": {},
   "outputs": [],
   "source": [
    "showimage() # 이미지 크기 고정되어 있음"
   ]
  },
  {
   "cell_type": "code",
   "execution_count": null,
   "metadata": {},
   "outputs": [],
   "source": [
    "# 이미지 조절 가능하게!\n",
    "def showimage2():\n",
    "    imgfile = 'C:/Users/Kim/Desktop/img.png'\n",
    "    img = cv2.imread(imgfile,cv2.IMREAD_COLOR)\n",
    "    \n",
    "    cv2.namedWindow('model',cv2.WINDOW_NORMAL)\n",
    "    # 첫번째 인자 - 윈도우의 타이틀, 두번째 인자는 사이즈 프래그\n",
    "    # AUTOSIZE 원본 크기로 생성\n",
    "    # NORMAL 원본이미지로 윈도우 생성 사용자가 크기를 조절할 수 있음\n",
    "    cv2.imshow('model',img)\n",
    "    cv2.waitKey(0) # 지정된 시간동안 키보드 입력을 기다려라, cv2.waitKey(5) 5ms동안 대기 0은 키보드 입력이있을때 까지 기다려라\n",
    "    cv2.destroyAllWindows() # 생성한 모든 윈도를 제거해라\n",
    "    "
   ]
  },
  {
   "cell_type": "code",
   "execution_count": 1,
   "metadata": {},
   "outputs": [],
   "source": [
    "# 이미지 파일의 복사본 만들어보기"
   ]
  },
  {
   "cell_type": "code",
   "execution_count": 3,
   "metadata": {},
   "outputs": [],
   "source": [
    "def makecopy():\n",
    "    imgfile = 'C:/Users/Kim/Desktop/img.png'\n",
    "    img = cv2.imread(imgfile,cv2.IMREAD_COLOR)\n",
    "    cv2.imshow('model',img)\n",
    "    cv2.namedWindow('model',cv2.WINDOW_NORMAL)\n",
    "    \n",
    "    \n",
    "    \n",
    "    \n",
    "    k= cv2.waitKey(0) & 0xFF \n",
    "    \n",
    "    if k==27:\n",
    "        cv2.destoryAllWindows()\n",
    "    elif k ==ord('c'): #ord() 문자c의 아스키 코드값 99를 리턴 => c를 누르면 복사본이 생긴다\n",
    "        cv2.imwirte('C:/Users/Kim/Desktop/copy.png',img)\n",
    "        cv2.destoryAllWindows()"
   ]
  },
  {
   "cell_type": "code",
   "execution_count": null,
   "metadata": {},
   "outputs": [],
   "source": [
    "11"
   ]
  },
  {
   "cell_type": "code",
   "execution_count": null,
   "metadata": {},
   "outputs": [],
   "source": []
  },
  {
   "cell_type": "code",
   "execution_count": null,
   "metadata": {},
   "outputs": [],
   "source": []
  }
 ],
 "metadata": {
  "kernelspec": {
   "display_name": "Python 3",
   "language": "python",
   "name": "python3"
  },
  "language_info": {
   "codemirror_mode": {
    "name": "ipython",
    "version": 3
   },
   "file_extension": ".py",
   "mimetype": "text/x-python",
   "name": "python",
   "nbconvert_exporter": "python",
   "pygments_lexer": "ipython3",
   "version": "3.6.5"
  }
 },
 "nbformat": 4,
 "nbformat_minor": 1
}
