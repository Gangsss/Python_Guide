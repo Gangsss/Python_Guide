{
 "cells": [
  {
   "cell_type": "code",
   "execution_count": 1,
   "metadata": {},
   "outputs": [],
   "source": [
    "from selenium import webdriver"
   ]
  },
  {
   "cell_type": "markdown",
   "metadata": {},
   "source": [
    "id = input(\"id을 입력하시오 :\") # id,password 입력"
   ]
  },
  {
   "cell_type": "markdown",
   "metadata": {},
   "source": [
    "pw = input(\"pw을 입력하시오 :\")"
   ]
  },
  {
   "cell_type": "code",
   "execution_count": 7,
   "metadata": {},
   "outputs": [],
   "source": [
    "driver = webdriver.Chrome('C:/Users/Kim/Desktop/chromedriver.exe')"
   ]
  },
  {
   "cell_type": "markdown",
   "metadata": {},
   "source": [
    "## 원하는 지역을 입력 "
   ]
  },
  {
   "cell_type": "code",
   "execution_count": 45,
   "metadata": {},
   "outputs": [
    {
     "name": "stdout",
     "output_type": "stream",
     "text": [
      "태그를 입력하시오 :부산\n"
     ]
    }
   ],
   "source": [
    "Place = input(\"태그를 입력하시오 :\")"
   ]
  },
  {
   "cell_type": "code",
   "execution_count": 9,
   "metadata": {},
   "outputs": [],
   "source": [
    "driver.get('https://www.instagram.com/')"
   ]
  },
  {
   "cell_type": "code",
   "execution_count": 10,
   "metadata": {},
   "outputs": [],
   "source": [
    "login_link = driver.find_element_by_css_selector('p.izU2O').find_element_by_css_selector('a')"
   ]
  },
  {
   "cell_type": "code",
   "execution_count": 11,
   "metadata": {},
   "outputs": [],
   "source": [
    "login_link.click()"
   ]
  },
  {
   "cell_type": "code",
   "execution_count": 12,
   "metadata": {},
   "outputs": [],
   "source": [
    "login_button=driver.find_element_by_xpath('//*[@id=\"react-root\"]/section/main/div/article/div/div[1]/div/form/span/button')"
   ]
  },
  {
   "cell_type": "code",
   "execution_count": 20,
   "metadata": {},
   "outputs": [],
   "source": [
    "id_input=driver.find_elements_by_css_selector(\"input._2hvTZ\")[0]\n",
    "pass_input=driver.find_elements_by_css_selector(\"input._2hvTZ\")[1]\n",
    "id_input.send_keys(id)\n",
    "pass_input.send_keys(pw)"
   ]
  },
  {
   "cell_type": "code",
   "execution_count": 21,
   "metadata": {},
   "outputs": [],
   "source": [
    "login_button.click()"
   ]
  },
  {
   "cell_type": "markdown",
   "metadata": {},
   "source": [
    "### 원하는 지역 url로 접근 => location url이 규칙이 없음\n",
    "### 직접 검색 -> location 아이콘이 있는 것 검색 후 클릭"
   ]
  },
  {
   "cell_type": "markdown",
   "metadata": {},
   "source": [
    "## location url : https://www.instagram.com/explore/locations/~ \n",
    "### 검색창에서 서울 검색시 지역을 나타내는 아이콘 나옴\n",
    "### 이것을 활용을 할려했지만 못찾는다고 뜸."
   ]
  },
  {
   "cell_type": "code",
   "execution_count": 56,
   "metadata": {},
   "outputs": [],
   "source": [
    "Find_location = driver.find_element_by_xpath('//*[@id=\"react-root\"]/section/nav/div[2]/div/div/div[2]/input') "
   ]
  },
  {
   "cell_type": "code",
   "execution_count": 57,
   "metadata": {},
   "outputs": [],
   "source": [
    "Find_location.send_keys(Place)"
   ]
  },
  {
   "cell_type": "code",
   "execution_count": 73,
   "metadata": {},
   "outputs": [
    {
     "ename": "AttributeError",
     "evalue": "'list' object has no attribute 'find_elements_by_css_selector'",
     "output_type": "error",
     "traceback": [
      "\u001b[1;31m---------------------------------------------------------------------------\u001b[0m",
      "\u001b[1;31mAttributeError\u001b[0m                            Traceback (most recent call last)",
      "\u001b[1;32m<ipython-input-73-19a8e5da6c24>\u001b[0m in \u001b[0;36m<module>\u001b[1;34m()\u001b[0m\n\u001b[1;32m----> 1\u001b[1;33m \u001b[0mFind_locationmark\u001b[0m\u001b[1;33m=\u001b[0m\u001b[0mdriver\u001b[0m\u001b[1;33m.\u001b[0m\u001b[0mfind_elements_by_css_selector\u001b[0m\u001b[1;33m(\u001b[0m\u001b[1;34m'a.yCE8d  '\u001b[0m\u001b[1;33m)\u001b[0m\u001b[1;33m.\u001b[0m\u001b[0mfind_elements_by_css_selector\u001b[0m\u001b[1;33m(\u001b[0m\u001b[1;34m'href./explore/locations/'\u001b[0m\u001b[1;33m)\u001b[0m\u001b[1;33m\u001b[0m\u001b[0m\n\u001b[0m",
      "\u001b[1;31mAttributeError\u001b[0m: 'list' object has no attribute 'find_elements_by_css_selector'"
     ]
    }
   ],
   "source": [
    "Find_locationmark=driver.find_elements_by_css_selector('a.yCE8d  ').find_elements_by_css_selector('div.nebtz coreSpriteLocation')"
   ]
  },
  {
   "cell_type": "code",
   "execution_count": 71,
   "metadata": {},
   "outputs": [
    {
     "data": {
      "text/plain": [
       "[<selenium.webdriver.remote.webelement.WebElement (session=\"e4d22ac7fea8759a9ecac48cfca20457\", element=\"0.20186411348865896-108\")>,\n",
       " <selenium.webdriver.remote.webelement.WebElement (session=\"e4d22ac7fea8759a9ecac48cfca20457\", element=\"0.20186411348865896-109\")>,\n",
       " <selenium.webdriver.remote.webelement.WebElement (session=\"e4d22ac7fea8759a9ecac48cfca20457\", element=\"0.20186411348865896-110\")>,\n",
       " <selenium.webdriver.remote.webelement.WebElement (session=\"e4d22ac7fea8759a9ecac48cfca20457\", element=\"0.20186411348865896-111\")>,\n",
       " <selenium.webdriver.remote.webelement.WebElement (session=\"e4d22ac7fea8759a9ecac48cfca20457\", element=\"0.20186411348865896-112\")>,\n",
       " <selenium.webdriver.remote.webelement.WebElement (session=\"e4d22ac7fea8759a9ecac48cfca20457\", element=\"0.20186411348865896-113\")>,\n",
       " <selenium.webdriver.remote.webelement.WebElement (session=\"e4d22ac7fea8759a9ecac48cfca20457\", element=\"0.20186411348865896-114\")>,\n",
       " <selenium.webdriver.remote.webelement.WebElement (session=\"e4d22ac7fea8759a9ecac48cfca20457\", element=\"0.20186411348865896-115\")>,\n",
       " <selenium.webdriver.remote.webelement.WebElement (session=\"e4d22ac7fea8759a9ecac48cfca20457\", element=\"0.20186411348865896-116\")>,\n",
       " <selenium.webdriver.remote.webelement.WebElement (session=\"e4d22ac7fea8759a9ecac48cfca20457\", element=\"0.20186411348865896-117\")>,\n",
       " <selenium.webdriver.remote.webelement.WebElement (session=\"e4d22ac7fea8759a9ecac48cfca20457\", element=\"0.20186411348865896-118\")>,\n",
       " <selenium.webdriver.remote.webelement.WebElement (session=\"e4d22ac7fea8759a9ecac48cfca20457\", element=\"0.20186411348865896-119\")>,\n",
       " <selenium.webdriver.remote.webelement.WebElement (session=\"e4d22ac7fea8759a9ecac48cfca20457\", element=\"0.20186411348865896-120\")>,\n",
       " <selenium.webdriver.remote.webelement.WebElement (session=\"e4d22ac7fea8759a9ecac48cfca20457\", element=\"0.20186411348865896-121\")>,\n",
       " <selenium.webdriver.remote.webelement.WebElement (session=\"e4d22ac7fea8759a9ecac48cfca20457\", element=\"0.20186411348865896-122\")>,\n",
       " <selenium.webdriver.remote.webelement.WebElement (session=\"e4d22ac7fea8759a9ecac48cfca20457\", element=\"0.20186411348865896-123\")>,\n",
       " <selenium.webdriver.remote.webelement.WebElement (session=\"e4d22ac7fea8759a9ecac48cfca20457\", element=\"0.20186411348865896-124\")>,\n",
       " <selenium.webdriver.remote.webelement.WebElement (session=\"e4d22ac7fea8759a9ecac48cfca20457\", element=\"0.20186411348865896-125\")>,\n",
       " <selenium.webdriver.remote.webelement.WebElement (session=\"e4d22ac7fea8759a9ecac48cfca20457\", element=\"0.20186411348865896-126\")>,\n",
       " <selenium.webdriver.remote.webelement.WebElement (session=\"e4d22ac7fea8759a9ecac48cfca20457\", element=\"0.20186411348865896-127\")>,\n",
       " <selenium.webdriver.remote.webelement.WebElement (session=\"e4d22ac7fea8759a9ecac48cfca20457\", element=\"0.20186411348865896-128\")>,\n",
       " <selenium.webdriver.remote.webelement.WebElement (session=\"e4d22ac7fea8759a9ecac48cfca20457\", element=\"0.20186411348865896-129\")>,\n",
       " <selenium.webdriver.remote.webelement.WebElement (session=\"e4d22ac7fea8759a9ecac48cfca20457\", element=\"0.20186411348865896-130\")>,\n",
       " <selenium.webdriver.remote.webelement.WebElement (session=\"e4d22ac7fea8759a9ecac48cfca20457\", element=\"0.20186411348865896-131\")>,\n",
       " <selenium.webdriver.remote.webelement.WebElement (session=\"e4d22ac7fea8759a9ecac48cfca20457\", element=\"0.20186411348865896-132\")>,\n",
       " <selenium.webdriver.remote.webelement.WebElement (session=\"e4d22ac7fea8759a9ecac48cfca20457\", element=\"0.20186411348865896-133\")>,\n",
       " <selenium.webdriver.remote.webelement.WebElement (session=\"e4d22ac7fea8759a9ecac48cfca20457\", element=\"0.20186411348865896-134\")>,\n",
       " <selenium.webdriver.remote.webelement.WebElement (session=\"e4d22ac7fea8759a9ecac48cfca20457\", element=\"0.20186411348865896-135\")>,\n",
       " <selenium.webdriver.remote.webelement.WebElement (session=\"e4d22ac7fea8759a9ecac48cfca20457\", element=\"0.20186411348865896-136\")>,\n",
       " <selenium.webdriver.remote.webelement.WebElement (session=\"e4d22ac7fea8759a9ecac48cfca20457\", element=\"0.20186411348865896-137\")>,\n",
       " <selenium.webdriver.remote.webelement.WebElement (session=\"e4d22ac7fea8759a9ecac48cfca20457\", element=\"0.20186411348865896-138\")>,\n",
       " <selenium.webdriver.remote.webelement.WebElement (session=\"e4d22ac7fea8759a9ecac48cfca20457\", element=\"0.20186411348865896-139\")>,\n",
       " <selenium.webdriver.remote.webelement.WebElement (session=\"e4d22ac7fea8759a9ecac48cfca20457\", element=\"0.20186411348865896-140\")>,\n",
       " <selenium.webdriver.remote.webelement.WebElement (session=\"e4d22ac7fea8759a9ecac48cfca20457\", element=\"0.20186411348865896-141\")>,\n",
       " <selenium.webdriver.remote.webelement.WebElement (session=\"e4d22ac7fea8759a9ecac48cfca20457\", element=\"0.20186411348865896-142\")>,\n",
       " <selenium.webdriver.remote.webelement.WebElement (session=\"e4d22ac7fea8759a9ecac48cfca20457\", element=\"0.20186411348865896-143\")>,\n",
       " <selenium.webdriver.remote.webelement.WebElement (session=\"e4d22ac7fea8759a9ecac48cfca20457\", element=\"0.20186411348865896-144\")>,\n",
       " <selenium.webdriver.remote.webelement.WebElement (session=\"e4d22ac7fea8759a9ecac48cfca20457\", element=\"0.20186411348865896-145\")>,\n",
       " <selenium.webdriver.remote.webelement.WebElement (session=\"e4d22ac7fea8759a9ecac48cfca20457\", element=\"0.20186411348865896-146\")>,\n",
       " <selenium.webdriver.remote.webelement.WebElement (session=\"e4d22ac7fea8759a9ecac48cfca20457\", element=\"0.20186411348865896-147\")>,\n",
       " <selenium.webdriver.remote.webelement.WebElement (session=\"e4d22ac7fea8759a9ecac48cfca20457\", element=\"0.20186411348865896-148\")>,\n",
       " <selenium.webdriver.remote.webelement.WebElement (session=\"e4d22ac7fea8759a9ecac48cfca20457\", element=\"0.20186411348865896-149\")>,\n",
       " <selenium.webdriver.remote.webelement.WebElement (session=\"e4d22ac7fea8759a9ecac48cfca20457\", element=\"0.20186411348865896-150\")>,\n",
       " <selenium.webdriver.remote.webelement.WebElement (session=\"e4d22ac7fea8759a9ecac48cfca20457\", element=\"0.20186411348865896-151\")>,\n",
       " <selenium.webdriver.remote.webelement.WebElement (session=\"e4d22ac7fea8759a9ecac48cfca20457\", element=\"0.20186411348865896-152\")>,\n",
       " <selenium.webdriver.remote.webelement.WebElement (session=\"e4d22ac7fea8759a9ecac48cfca20457\", element=\"0.20186411348865896-153\")>,\n",
       " <selenium.webdriver.remote.webelement.WebElement (session=\"e4d22ac7fea8759a9ecac48cfca20457\", element=\"0.20186411348865896-154\")>,\n",
       " <selenium.webdriver.remote.webelement.WebElement (session=\"e4d22ac7fea8759a9ecac48cfca20457\", element=\"0.20186411348865896-155\")>,\n",
       " <selenium.webdriver.remote.webelement.WebElement (session=\"e4d22ac7fea8759a9ecac48cfca20457\", element=\"0.20186411348865896-156\")>,\n",
       " <selenium.webdriver.remote.webelement.WebElement (session=\"e4d22ac7fea8759a9ecac48cfca20457\", element=\"0.20186411348865896-157\")>,\n",
       " <selenium.webdriver.remote.webelement.WebElement (session=\"e4d22ac7fea8759a9ecac48cfca20457\", element=\"0.20186411348865896-158\")>,\n",
       " <selenium.webdriver.remote.webelement.WebElement (session=\"e4d22ac7fea8759a9ecac48cfca20457\", element=\"0.20186411348865896-159\")>,\n",
       " <selenium.webdriver.remote.webelement.WebElement (session=\"e4d22ac7fea8759a9ecac48cfca20457\", element=\"0.20186411348865896-160\")>,\n",
       " <selenium.webdriver.remote.webelement.WebElement (session=\"e4d22ac7fea8759a9ecac48cfca20457\", element=\"0.20186411348865896-161\")>,\n",
       " <selenium.webdriver.remote.webelement.WebElement (session=\"e4d22ac7fea8759a9ecac48cfca20457\", element=\"0.20186411348865896-162\")>,\n",
       " <selenium.webdriver.remote.webelement.WebElement (session=\"e4d22ac7fea8759a9ecac48cfca20457\", element=\"0.20186411348865896-163\")>,\n",
       " <selenium.webdriver.remote.webelement.WebElement (session=\"e4d22ac7fea8759a9ecac48cfca20457\", element=\"0.20186411348865896-164\")>,\n",
       " <selenium.webdriver.remote.webelement.WebElement (session=\"e4d22ac7fea8759a9ecac48cfca20457\", element=\"0.20186411348865896-165\")>,\n",
       " <selenium.webdriver.remote.webelement.WebElement (session=\"e4d22ac7fea8759a9ecac48cfca20457\", element=\"0.20186411348865896-166\")>,\n",
       " <selenium.webdriver.remote.webelement.WebElement (session=\"e4d22ac7fea8759a9ecac48cfca20457\", element=\"0.20186411348865896-167\")>,\n",
       " <selenium.webdriver.remote.webelement.WebElement (session=\"e4d22ac7fea8759a9ecac48cfca20457\", element=\"0.20186411348865896-168\")>,\n",
       " <selenium.webdriver.remote.webelement.WebElement (session=\"e4d22ac7fea8759a9ecac48cfca20457\", element=\"0.20186411348865896-169\")>,\n",
       " <selenium.webdriver.remote.webelement.WebElement (session=\"e4d22ac7fea8759a9ecac48cfca20457\", element=\"0.20186411348865896-170\")>,\n",
       " <selenium.webdriver.remote.webelement.WebElement (session=\"e4d22ac7fea8759a9ecac48cfca20457\", element=\"0.20186411348865896-171\")>,\n",
       " <selenium.webdriver.remote.webelement.WebElement (session=\"e4d22ac7fea8759a9ecac48cfca20457\", element=\"0.20186411348865896-172\")>,\n",
       " <selenium.webdriver.remote.webelement.WebElement (session=\"e4d22ac7fea8759a9ecac48cfca20457\", element=\"0.20186411348865896-173\")>,\n",
       " <selenium.webdriver.remote.webelement.WebElement (session=\"e4d22ac7fea8759a9ecac48cfca20457\", element=\"0.20186411348865896-174\")>,\n",
       " <selenium.webdriver.remote.webelement.WebElement (session=\"e4d22ac7fea8759a9ecac48cfca20457\", element=\"0.20186411348865896-175\")>,\n",
       " <selenium.webdriver.remote.webelement.WebElement (session=\"e4d22ac7fea8759a9ecac48cfca20457\", element=\"0.20186411348865896-176\")>,\n",
       " <selenium.webdriver.remote.webelement.WebElement (session=\"e4d22ac7fea8759a9ecac48cfca20457\", element=\"0.20186411348865896-177\")>,\n",
       " <selenium.webdriver.remote.webelement.WebElement (session=\"e4d22ac7fea8759a9ecac48cfca20457\", element=\"0.20186411348865896-178\")>,\n",
       " <selenium.webdriver.remote.webelement.WebElement (session=\"e4d22ac7fea8759a9ecac48cfca20457\", element=\"0.20186411348865896-179\")>,\n",
       " <selenium.webdriver.remote.webelement.WebElement (session=\"e4d22ac7fea8759a9ecac48cfca20457\", element=\"0.20186411348865896-180\")>,\n",
       " <selenium.webdriver.remote.webelement.WebElement (session=\"e4d22ac7fea8759a9ecac48cfca20457\", element=\"0.20186411348865896-181\")>,\n",
       " <selenium.webdriver.remote.webelement.WebElement (session=\"e4d22ac7fea8759a9ecac48cfca20457\", element=\"0.20186411348865896-182\")>,\n",
       " <selenium.webdriver.remote.webelement.WebElement (session=\"e4d22ac7fea8759a9ecac48cfca20457\", element=\"0.20186411348865896-183\")>,\n",
       " <selenium.webdriver.remote.webelement.WebElement (session=\"e4d22ac7fea8759a9ecac48cfca20457\", element=\"0.20186411348865896-184\")>,\n",
       " <selenium.webdriver.remote.webelement.WebElement (session=\"e4d22ac7fea8759a9ecac48cfca20457\", element=\"0.20186411348865896-185\")>,\n",
       " <selenium.webdriver.remote.webelement.WebElement (session=\"e4d22ac7fea8759a9ecac48cfca20457\", element=\"0.20186411348865896-186\")>,\n",
       " <selenium.webdriver.remote.webelement.WebElement (session=\"e4d22ac7fea8759a9ecac48cfca20457\", element=\"0.20186411348865896-187\")>,\n",
       " <selenium.webdriver.remote.webelement.WebElement (session=\"e4d22ac7fea8759a9ecac48cfca20457\", element=\"0.20186411348865896-188\")>,\n",
       " <selenium.webdriver.remote.webelement.WebElement (session=\"e4d22ac7fea8759a9ecac48cfca20457\", element=\"0.20186411348865896-189\")>,\n",
       " <selenium.webdriver.remote.webelement.WebElement (session=\"e4d22ac7fea8759a9ecac48cfca20457\", element=\"0.20186411348865896-190\")>,\n",
       " <selenium.webdriver.remote.webelement.WebElement (session=\"e4d22ac7fea8759a9ecac48cfca20457\", element=\"0.20186411348865896-191\")>,\n",
       " <selenium.webdriver.remote.webelement.WebElement (session=\"e4d22ac7fea8759a9ecac48cfca20457\", element=\"0.20186411348865896-192\")>,\n",
       " <selenium.webdriver.remote.webelement.WebElement (session=\"e4d22ac7fea8759a9ecac48cfca20457\", element=\"0.20186411348865896-193\")>,\n",
       " <selenium.webdriver.remote.webelement.WebElement (session=\"e4d22ac7fea8759a9ecac48cfca20457\", element=\"0.20186411348865896-194\")>,\n",
       " <selenium.webdriver.remote.webelement.WebElement (session=\"e4d22ac7fea8759a9ecac48cfca20457\", element=\"0.20186411348865896-195\")>,\n",
       " <selenium.webdriver.remote.webelement.WebElement (session=\"e4d22ac7fea8759a9ecac48cfca20457\", element=\"0.20186411348865896-196\")>,\n",
       " <selenium.webdriver.remote.webelement.WebElement (session=\"e4d22ac7fea8759a9ecac48cfca20457\", element=\"0.20186411348865896-197\")>,\n",
       " <selenium.webdriver.remote.webelement.WebElement (session=\"e4d22ac7fea8759a9ecac48cfca20457\", element=\"0.20186411348865896-198\")>,\n",
       " <selenium.webdriver.remote.webelement.WebElement (session=\"e4d22ac7fea8759a9ecac48cfca20457\", element=\"0.20186411348865896-199\")>,\n",
       " <selenium.webdriver.remote.webelement.WebElement (session=\"e4d22ac7fea8759a9ecac48cfca20457\", element=\"0.20186411348865896-200\")>,\n",
       " <selenium.webdriver.remote.webelement.WebElement (session=\"e4d22ac7fea8759a9ecac48cfca20457\", element=\"0.20186411348865896-201\")>,\n",
       " <selenium.webdriver.remote.webelement.WebElement (session=\"e4d22ac7fea8759a9ecac48cfca20457\", element=\"0.20186411348865896-202\")>,\n",
       " <selenium.webdriver.remote.webelement.WebElement (session=\"e4d22ac7fea8759a9ecac48cfca20457\", element=\"0.20186411348865896-203\")>,\n",
       " <selenium.webdriver.remote.webelement.WebElement (session=\"e4d22ac7fea8759a9ecac48cfca20457\", element=\"0.20186411348865896-204\")>,\n",
       " <selenium.webdriver.remote.webelement.WebElement (session=\"e4d22ac7fea8759a9ecac48cfca20457\", element=\"0.20186411348865896-205\")>,\n",
       " <selenium.webdriver.remote.webelement.WebElement (session=\"e4d22ac7fea8759a9ecac48cfca20457\", element=\"0.20186411348865896-206\")>,\n",
       " <selenium.webdriver.remote.webelement.WebElement (session=\"e4d22ac7fea8759a9ecac48cfca20457\", element=\"0.20186411348865896-207\")>]"
      ]
     },
     "execution_count": 71,
     "metadata": {},
     "output_type": "execute_result"
    }
   ],
   "source": [
    "Find_locationmark"
   ]
  },
  {
   "cell_type": "code",
   "execution_count": 64,
   "metadata": {},
   "outputs": [
    {
     "data": {
      "text/plain": [
       "[]"
      ]
     },
     "execution_count": 64,
     "metadata": {},
     "output_type": "execute_result"
    }
   ],
   "source": [
    "Find_locationmark"
   ]
  }
 ],
 "metadata": {
  "kernelspec": {
   "display_name": "Python 3",
   "language": "python",
   "name": "python3"
  },
  "language_info": {
   "codemirror_mode": {
    "name": "ipython",
    "version": 3
   },
   "file_extension": ".py",
   "mimetype": "text/x-python",
   "name": "python",
   "nbconvert_exporter": "python",
   "pygments_lexer": "ipython3",
   "version": "3.6.5"
  }
 },
 "nbformat": 4,
 "nbformat_minor": 2
}
